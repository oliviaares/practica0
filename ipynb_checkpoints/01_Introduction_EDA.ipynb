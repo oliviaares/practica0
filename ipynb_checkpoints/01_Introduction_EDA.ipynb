{
 "cells": [
  {
   "cell_type": "code",
   "execution_count": 1,
   "metadata": {},
   "outputs": [
    {
     "name": "stderr",
     "output_type": "stream",
     "text": [
      "/Users/oliares/opt/anaconda3/envs/aprendizaje_automatico/lib/python3.12/site-packages/tqdm/auto.py:21: TqdmWarning: IProgress not found. Please update jupyter and ipywidgets. See https://ipywidgets.readthedocs.io/en/stable/user_install.html\n",
      "  from .autonotebook import tqdm as notebook_tqdm\n"
     ]
    },
    {
     "name": "stdout",
     "output_type": "stream",
     "text": [
      "Pandas y Sweetviz están instalados correctamente\n"
     ]
    }
   ],
   "source": [
    "import pandas as pd\n",
    "import sweetviz as sv\n",
    "\n",
    "print(\"Pandas y Sweetviz están instalados correctamente\")\n",
    "\n"
   ]
  },
  {
   "cell_type": "code",
   "execution_count": 24,
   "metadata": {},
   "outputs": [
    {
     "name": "stdout",
     "output_type": "stream",
     "text": [
      "Tipos de datos en cada columna:\n",
      "notes offered by prospectus (https://www.lendingclub.com/info/prospectus.action)    object\n",
      "dtype: object\n"
     ]
    },
    {
     "name": "stderr",
     "output_type": "stream",
     "text": [
      "Done! Use 'show' commands to display/save.   |██| [100%]   00:00 -> (00:00 left)\n"
     ]
    },
    {
     "name": "stdout",
     "output_type": "stream",
     "text": [
      "Report /Users/oliares/Downloads/Loan_Analysis_Report_20241020_135733.html was generated! NOTEBOOK/COLAB USERS: the web browser MAY not pop up, regardless, the report IS saved in your notebook/colab files.\n",
      "\n",
      "Reporte guardado exitosamente en: /Users/oliares/Downloads/Loan_Analysis_Report_20241020_135733.html\n"
     ]
    }
   ],
   "source": [
    "import pandas as pd\n",
    "import sweetviz as sv\n",
    "import os\n",
    "from datetime import datetime\n",
    "\n",
    "# 1. Cargar el dataset completo\n",
    "df = pd.read_csv(\n",
    "    \"/Users/oliares/Desktop/aprendizaje/practica0/data/Loan_test_set.csv\",  # Ruta relativa a tu archivo\n",
    "    sep=\",\",\n",
    "    low_memory=False,\n",
    "    na_values=[\"NaN\", \"nan\", \"\", \" \"]\n",
    ")\n",
    "\n",
    "# 2. Limpiar los nombres de las columnas\n",
    "df.columns = df.columns.str.strip().str.lower()\n",
    "\n",
    "# 3. Verificar los tipos de datos en cada columna\n",
    "print(\"Tipos de datos en cada columna:\")\n",
    "print(df.dtypes)\n",
    "\n",
    "# 4. Rellenar valores nulos solo en las columnas numéricas con la media\n",
    "numeric_columns = df.select_dtypes(include='number').columns\n",
    "df[numeric_columns] = df[numeric_columns].fillna(df[numeric_columns].mean())\n",
    "\n",
    "# 5. Generar el reporte de Sweetviz\n",
    "report = sv.analyze(df, pairwise_analysis='on')  # Generar análisis por pares\n",
    "\n",
    "# 6. Crear un nombre de archivo con fecha y hora\n",
    "timestamp = datetime.now().strftime(\"%Y%m%d_%H%M%S\")\n",
    "report_filename = f'Loan_Analysis_Report_{timestamp}.html'\n",
    "report_path = os.path.join(os.path.expanduser('~'), 'Downloads', report_filename)\n",
    "\n",
    "# 7. Guardar el reporte en la carpeta de Descargas y abrirlo en el navegador\n",
    "report.show_html(report_path, open_browser=True)\n",
    "\n",
    "print(f\"\\nReporte guardado exitosamente en: {report_path}\")\n"
   ]
  },
  {
   "cell_type": "code",
   "execution_count": null,
   "metadata": {},
   "outputs": [],
   "source": []
  }
 ],
 "metadata": {
  "kernelspec": {
   "display_name": "Aprendizaje Automático",
   "language": "python",
   "name": "aprendizaje_automatico"
  },
  "language_info": {
   "codemirror_mode": {
    "name": "ipython",
    "version": 3
   },
   "file_extension": ".py",
   "mimetype": "text/x-python",
   "name": "python",
   "nbconvert_exporter": "python",
   "pygments_lexer": "ipython3",
   "version": "3.12.7"
  }
 },
 "nbformat": 4,
 "nbformat_minor": 4
}
